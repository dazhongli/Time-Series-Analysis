{
 "cells": [
  {
   "cell_type": "markdown",
   "metadata": {},
   "source": [
    "# Time Series Anlsysis for settlement\n",
    "\n",
    "This project is aimed at performing predictive analyses on the settlement data in consolidation using the standard time series approaches, which comprises of the analyses on the time domain and frequency domain. The current practice in the industry for predicting the residual settlement assessment is Asaoka's method(essentially the first order auto-regressive analysis) or hyperbolic method(less popular due to the lack of the physical interpretation of the method. \n",
    "\n",
    "# Methodology\n",
    "\n",
    "we will be using some python libraries to test effects of various method available and also conduct some statistical analysis for settlement analyses on over 500 settlement monitoring stations over a large-scale reclamation site. \n",
    "\n",
    "- we will be using ipywigdet "
   ]
  },
  {
   "cell_type": "code",
   "execution_count": 1,
   "metadata": {
    "collapsed": true
   },
   "outputs": [
    {
     "name": "stderr",
     "output_type": "stream",
     "text": [
      "C:\\Users\\ambel\\Anaconda3\\lib\\site-packages\\statsmodels\\compat\\pandas.py:56: FutureWarning: The pandas.core.datetools module is deprecated and will be removed in a future version. Please use the pandas.tseries module instead.\n",
      "  from pandas.core import datetools\n"
     ]
    }
   ],
   "source": [
    "#%%writefile ./src/timeseries.py\n",
    "import os\n",
    "import pandas as pd\n",
    "import matplotlib.pyplot as plt\n",
    "import ipywidgets as wg\n",
    "from pandas.plotting import lag_plot\n",
    "from statsmodels.graphics.tsaplots import plot_acf\n",
    "import seaborn as sns\n",
    "%matplotlib inline"
   ]
  },
  {
   "cell_type": "code",
   "execution_count": 2,
   "metadata": {},
   "outputs": [],
   "source": [
    "ts = pd.read_csv('./data/Settlement Plot for RB-105-SM1-1R.csv')"
   ]
  },
  {
   "cell_type": "code",
   "execution_count": 3,
   "metadata": {
    "collapsed": true
   },
   "outputs": [],
   "source": [
    "ts.Date = pd.to_datetime(ts.Date)\n",
    "ts.index = ts.Date\n",
    "#ts.drop('Date',axis=1,inplace=True)"
   ]
  },
  {
   "cell_type": "markdown",
   "metadata": {},
   "source": [
    "# Sample the data with various lags\n",
    "\n",
    "we will do this dynamically to see the different effect of selected time lags"
   ]
  },
  {
   "cell_type": "code",
   "execution_count": 4,
   "metadata": {},
   "outputs": [],
   "source": [
    "#%%writefile -a ./src/timeseries.py\n",
    "def sample_data(lag,plot =False,figuretitle='Figure'):\n",
    "    '''\n",
    "    This function returns the sampled data with a given time lag.\n",
    "    \n",
    "    Argument:\n",
    "    lag - a string specifying the time lag, e.g., '1W','1M', etc.\n",
    "    \n",
    "    Return - a dataframe contained sampled data.\n",
    "    '''\n",
    "    ts_week = ts.resample(lag).mean().interpolate()\n",
    "    if plot:\n",
    "        fig, ax = plt.subplots(2,2,figsize=(16.53,11.69))\n",
    "        ts_week.plot(ax=ax[0,0],y='Settlement',marker='o',label='Sampled Data',markersize=3,color='r')\n",
    "        ts_week.plot(ax=ax[0,1],y='Ground Level',marker='*',label='Ground Level',markersize=1)\n",
    "        ts.plot(y='Settlement',kind='line',ax=ax[0,0],marker='*',linewidth=0,label = 'Original Data',c='k')\n",
    "        lag_plot(ts_week.Settlement,lag=1,ax=ax[1,0],c='k',marker='*')\n",
    "        plot_acf(ts_week.Settlement,ax=ax[1,1],color='k')\n",
    "        ax[0,0].set_ylim([8,0])\n",
    "        ts.Date.max()\n",
    "        ax[0,0].set_ylabel('Settlement(m)')\n",
    "        plt.tight_layout()\n",
    "        fig.savefig(os.path.join(r'./pdf',figuretitle+'.pdf'))\n",
    "    return ts_week"
   ]
  },
  {
   "cell_type": "code",
   "execution_count": 5,
   "metadata": {
    "collapsed": true
   },
   "outputs": [
    {
     "data": {
      "application/vnd.jupyter.widget-view+json": {
       "model_id": "67268faeb5794c24a06fe870717bcc12",
       "version_major": 2,
       "version_minor": 0
      },
      "text/html": [
       "<p>Failed to display Jupyter Widget of type <code>interactive</code>.</p>\n",
       "<p>\n",
       "  If you're reading this message in the Jupyter Notebook or JupyterLab Notebook, it may mean\n",
       "  that the widgets JavaScript is still loading. If this message persists, it\n",
       "  likely means that the widgets JavaScript library is either not installed or\n",
       "  not enabled. See the <a href=\"https://ipywidgets.readthedocs.io/en/stable/user_install.html\">Jupyter\n",
       "  Widgets Documentation</a> for setup instructions.\n",
       "</p>\n",
       "<p>\n",
       "  If you're reading this message in another frontend (for example, a static\n",
       "  rendering on GitHub or <a href=\"https://nbviewer.jupyter.org/\">NBViewer</a>),\n",
       "  it may mean that your frontend doesn't currently support widgets.\n",
       "</p>\n"
      ],
      "text/plain": [
       "interactive(children=(Dropdown(description='lag', options=('1W', '2W', '1M'), value='1W'), Checkbox(value=False, description='plot'), Text(value='Figure', description='figuretitle'), Output()), _dom_classes=('widget-interact',))"
      ]
     },
     "metadata": {},
     "output_type": "display_data"
    }
   ],
   "source": [
    "data = wg.interact(sample_data,lag =['1W','2W','1M']) #Interactive plot with ipywidgets"
   ]
  },
  {
   "cell_type": "code",
   "execution_count": 93,
   "metadata": {},
   "outputs": [
    {
     "ename": "AttributeError",
     "evalue": "'function' object has no attribute 'head'",
     "output_type": "error",
     "traceback": [
      "\u001b[1;31m---------------------------------------------------------------------------\u001b[0m",
      "\u001b[1;31mAttributeError\u001b[0m                            Traceback (most recent call last)",
      "\u001b[1;32m<ipython-input-93-199065406915>\u001b[0m in \u001b[0;36m<module>\u001b[1;34m()\u001b[0m\n\u001b[1;32m----> 1\u001b[1;33m \u001b[0mdata\u001b[0m\u001b[1;33m.\u001b[0m\u001b[0mhead\u001b[0m\u001b[1;33m(\u001b[0m\u001b[1;33m)\u001b[0m\u001b[1;33m\u001b[0m\u001b[0m\n\u001b[0m",
      "\u001b[1;31mAttributeError\u001b[0m: 'function' object has no attribute 'head'"
     ]
    }
   ],
   "source": [
    "data.head()"
   ]
  },
  {
   "cell_type": "code",
   "execution_count": 99,
   "metadata": {},
   "outputs": [],
   "source": [
    "data = sample_data('1w')"
   ]
  },
  {
   "cell_type": "code",
   "execution_count": 97,
   "metadata": {},
   "outputs": [
    {
     "data": {
      "text/plain": [
       "\u001b[1;31mSignature:\u001b[0m \u001b[0mlag_plot\u001b[0m\u001b[1;33m(\u001b[0m\u001b[0mseries\u001b[0m\u001b[1;33m,\u001b[0m \u001b[0mlag\u001b[0m\u001b[1;33m=\u001b[0m\u001b[1;36m1\u001b[0m\u001b[1;33m,\u001b[0m \u001b[0max\u001b[0m\u001b[1;33m=\u001b[0m\u001b[1;32mNone\u001b[0m\u001b[1;33m,\u001b[0m \u001b[1;33m**\u001b[0m\u001b[0mkwds\u001b[0m\u001b[1;33m)\u001b[0m\u001b[1;33m\u001b[0m\u001b[0m\n",
       "\u001b[1;31mDocstring:\u001b[0m\n",
       "Lag plot for time series.\n",
       "\n",
       "Parameters:\n",
       "-----------\n",
       "series: Time series\n",
       "lag: lag of the scatter plot, default 1\n",
       "ax: Matplotlib axis object, optional\n",
       "kwds: Matplotlib scatter method keyword arguments, optional\n",
       "\n",
       "Returns:\n",
       "--------\n",
       "ax: Matplotlib axis object\n",
       "\u001b[1;31mFile:\u001b[0m      c:\\users\\ambel\\anaconda3\\lib\\site-packages\\pandas\\plotting\\_misc.py\n",
       "\u001b[1;31mType:\u001b[0m      function\n"
      ]
     },
     "metadata": {},
     "output_type": "display_data"
    }
   ],
   "source": [
    "lag_plot?"
   ]
  },
  {
   "cell_type": "code",
   "execution_count": null,
   "metadata": {},
   "outputs": [],
   "source": []
  },
  {
   "cell_type": "code",
   "execution_count": 101,
   "metadata": {},
   "outputs": [
    {
     "data": {
      "text/plain": [
       "\u001b[1;31mSignature:\u001b[0m \u001b[0mplot_acf\u001b[0m\u001b[1;33m(\u001b[0m\u001b[0mx\u001b[0m\u001b[1;33m,\u001b[0m \u001b[0max\u001b[0m\u001b[1;33m=\u001b[0m\u001b[1;32mNone\u001b[0m\u001b[1;33m,\u001b[0m \u001b[0mlags\u001b[0m\u001b[1;33m=\u001b[0m\u001b[1;32mNone\u001b[0m\u001b[1;33m,\u001b[0m \u001b[0malpha\u001b[0m\u001b[1;33m=\u001b[0m\u001b[1;36m0.05\u001b[0m\u001b[1;33m,\u001b[0m \u001b[0muse_vlines\u001b[0m\u001b[1;33m=\u001b[0m\u001b[1;32mTrue\u001b[0m\u001b[1;33m,\u001b[0m \u001b[0munbiased\u001b[0m\u001b[1;33m=\u001b[0m\u001b[1;32mFalse\u001b[0m\u001b[1;33m,\u001b[0m \u001b[0mfft\u001b[0m\u001b[1;33m=\u001b[0m\u001b[1;32mFalse\u001b[0m\u001b[1;33m,\u001b[0m \u001b[0mtitle\u001b[0m\u001b[1;33m=\u001b[0m\u001b[1;34m'Autocorrelation'\u001b[0m\u001b[1;33m,\u001b[0m \u001b[0mzero\u001b[0m\u001b[1;33m=\u001b[0m\u001b[1;32mTrue\u001b[0m\u001b[1;33m,\u001b[0m \u001b[1;33m**\u001b[0m\u001b[0mkwargs\u001b[0m\u001b[1;33m)\u001b[0m\u001b[1;33m\u001b[0m\u001b[0m\n",
       "\u001b[1;31mDocstring:\u001b[0m\n",
       "Plot the autocorrelation function\n",
       "\n",
       "Plots lags on the horizontal and the correlations on vertical axis.\n",
       "\n",
       "Parameters\n",
       "----------\n",
       "x : array_like\n",
       "    Array of time-series values\n",
       "ax : Matplotlib AxesSubplot instance, optional\n",
       "    If given, this subplot is used to plot in instead of a new figure being\n",
       "    created.\n",
       "lags : int or array_like, optional\n",
       "    int or Array of lag values, used on horizontal axis. Uses\n",
       "    np.arange(lags) when lags is an int.  If not provided,\n",
       "    ``lags=np.arange(len(corr))`` is used.\n",
       "alpha : scalar, optional\n",
       "    If a number is given, the confidence intervals for the given level are\n",
       "    returned. For instance if alpha=.05, 95 % confidence intervals are\n",
       "    returned where the standard deviation is computed according to\n",
       "    Bartlett's formula. If None, no confidence intervals are plotted.\n",
       "use_vlines : bool, optional\n",
       "    If True, vertical lines and markers are plotted.\n",
       "    If False, only markers are plotted.  The default marker is 'o'; it can\n",
       "    be overridden with a ``marker`` kwarg.\n",
       "unbiased : bool\n",
       "    If True, then denominators for autocovariance are n-k, otherwise n\n",
       "fft : bool, optional\n",
       "    If True, computes the ACF via FFT.\n",
       "title : str, optional\n",
       "    Title to place on plot.  Default is 'Autocorrelation'\n",
       "zero : bool, optional\n",
       "    Flag indicating whether to include the 0-lag autocorrelation.\n",
       "    Default is True.\n",
       "**kwargs : kwargs, optional\n",
       "    Optional keyword arguments that are directly passed on to the\n",
       "    Matplotlib ``plot`` and ``axhline`` functions.\n",
       "\n",
       "Returns\n",
       "-------\n",
       "fig : Matplotlib figure instance\n",
       "    If `ax` is None, the created figure.  Otherwise the figure to which\n",
       "    `ax` is connected.\n",
       "\n",
       "See Also\n",
       "--------\n",
       "matplotlib.pyplot.xcorr\n",
       "matplotlib.pyplot.acorr\n",
       "mpl_examples/pylab_examples/xcorr_demo.py\n",
       "\n",
       "Notes\n",
       "-----\n",
       "Adapted from matplotlib's `xcorr`.\n",
       "\n",
       "Data are plotted as ``plot(lags, corr, **kwargs)``\n",
       "\u001b[1;31mFile:\u001b[0m      c:\\users\\ambel\\anaconda3\\lib\\site-packages\\statsmodels\\graphics\\tsaplots.py\n",
       "\u001b[1;31mType:\u001b[0m      function\n"
      ]
     },
     "metadata": {},
     "output_type": "display_data"
    }
   ],
   "source": [
    "plot_acf?"
   ]
  },
  {
   "cell_type": "code",
   "execution_count": null,
   "metadata": {},
   "outputs": [],
   "source": []
  }
 ],
 "metadata": {
  "kernelspec": {
   "display_name": "Python 3",
   "language": "python",
   "name": "python3"
  },
  "language_info": {
   "codemirror_mode": {
    "name": "ipython",
    "version": 3
   },
   "file_extension": ".py",
   "mimetype": "text/x-python",
   "name": "python",
   "nbconvert_exporter": "python",
   "pygments_lexer": "ipython3",
   "version": "3.5.0"
  }
 },
 "nbformat": 4,
 "nbformat_minor": 2
}
