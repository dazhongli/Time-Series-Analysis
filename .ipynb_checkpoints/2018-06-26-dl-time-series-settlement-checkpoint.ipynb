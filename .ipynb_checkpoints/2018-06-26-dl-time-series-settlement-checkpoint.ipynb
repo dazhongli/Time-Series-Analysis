{
 "cells": [
  {
   "cell_type": "markdown",
   "metadata": {},
   "source": [
    "# Time Series Anlsysis for settlement\n",
    "\n",
    "This project is aimed at performing predictive analyses on the settlement data in consolidation using the standard time series approaches, which comprises of the analyses on the time domain and frequency domain. The current practice in the industry for predicting the residual settlement assessment is Asaoka's method(essentially the first order auto-regressive analysis) or hyperbolic method(less popular due to the lack of the physical interpretation of the method. \n",
    "\n",
    "# Methodology\n",
    "\n",
    "we will be using some python libraries to test effects of various method available and also conduct some statistical analysis for settlement analyses on over 500 settlement monitoring stations over a large-scale reclamation site. \n",
    "\n",
    "- we will be using ipywigdet "
   ]
  },
  {
   "cell_type": "code",
   "execution_count": 1,
   "metadata": {
    "collapsed": true
   },
   "outputs": [],
   "source": [
    "import pandas as pd\n",
    "import matplotlib.pyplot as plt\n",
    "import ipywidgets as wg\n",
    "%matplotlib inline"
   ]
  },
  {
   "cell_type": "code",
   "execution_count": 2,
   "metadata": {},
   "outputs": [
    {
     "data": {
      "application/vnd.jupyter.widget-view+json": {
       "model_id": "886596f9a76e4400bf7a59ad1c811ca9",
       "version_major": 2,
       "version_minor": 0
      },
      "text/html": [
       "<p>Failed to display Jupyter Widget of type <code>FloatSlider</code>.</p>\n",
       "<p>\n",
       "  If you're reading this message in the Jupyter Notebook or JupyterLab Notebook, it may mean\n",
       "  that the widgets JavaScript is still loading. If this message persists, it\n",
       "  likely means that the widgets JavaScript library is either not installed or\n",
       "  not enabled. See the <a href=\"https://ipywidgets.readthedocs.io/en/stable/user_install.html\">Jupyter\n",
       "  Widgets Documentation</a> for setup instructions.\n",
       "</p>\n",
       "<p>\n",
       "  If you're reading this message in another frontend (for example, a static\n",
       "  rendering on GitHub or <a href=\"https://nbviewer.jupyter.org/\">NBViewer</a>),\n",
       "  it may mean that your frontend doesn't currently support widgets.\n",
       "</p>\n"
      ],
      "text/plain": [
       "FloatSlider(value=10.0, max=20.0, min=10.0)"
      ]
     },
     "metadata": {},
     "output_type": "display_data"
    }
   ],
   "source": [
    "wg.FloatSlider(min=10,max=20)"
   ]
  },
  {
   "cell_type": "code",
   "execution_count": 3,
   "metadata": {},
   "outputs": [],
   "source": [
    "ts = pd.read_csv('./data/Settlement Plot for RB-105-SM1-1R.csv')"
   ]
  },
  {
   "cell_type": "code",
   "execution_count": 4,
   "metadata": {
    "collapsed": true
   },
   "outputs": [],
   "source": [
    "ts.Date = pd.to_datetime(ts.Date)\n",
    "ts.index = ts.Date\n",
    "#ts.drop('Date',axis=1,inplace=True)"
   ]
  },
  {
   "cell_type": "markdown",
   "metadata": {},
   "source": [
    "# Sample the data with various lags\n",
    "\n",
    "we will do this dynamically to see the different effect of selected time lags"
   ]
  },
  {
   "cell_type": "code",
   "execution_count": 5,
   "metadata": {},
   "outputs": [
    {
     "data": {
      "text/html": [
       "<div>\n",
       "<style>\n",
       "    .dataframe thead tr:only-child th {\n",
       "        text-align: right;\n",
       "    }\n",
       "\n",
       "    .dataframe thead th {\n",
       "        text-align: left;\n",
       "    }\n",
       "\n",
       "    .dataframe tbody tr th {\n",
       "        vertical-align: top;\n",
       "    }\n",
       "</style>\n",
       "<table border=\"1\" class=\"dataframe\">\n",
       "  <thead>\n",
       "    <tr style=\"text-align: right;\">\n",
       "      <th></th>\n",
       "      <th>Date</th>\n",
       "      <th>Ground Level</th>\n",
       "      <th>Settlement</th>\n",
       "    </tr>\n",
       "    <tr>\n",
       "      <th>Date</th>\n",
       "      <th></th>\n",
       "      <th></th>\n",
       "      <th></th>\n",
       "    </tr>\n",
       "  </thead>\n",
       "  <tbody>\n",
       "    <tr>\n",
       "      <th>2013-05-04</th>\n",
       "      <td>2013-05-04</td>\n",
       "      <td>-2.000</td>\n",
       "      <td>0.000000</td>\n",
       "    </tr>\n",
       "    <tr>\n",
       "      <th>2013-12-03</th>\n",
       "      <td>2013-12-03</td>\n",
       "      <td>3.364</td>\n",
       "      <td>1.022000</td>\n",
       "    </tr>\n",
       "    <tr>\n",
       "      <th>2013-12-04</th>\n",
       "      <td>2013-12-04</td>\n",
       "      <td>3.364</td>\n",
       "      <td>1.041500</td>\n",
       "    </tr>\n",
       "    <tr>\n",
       "      <th>2013-12-05</th>\n",
       "      <td>2013-12-05</td>\n",
       "      <td>3.364</td>\n",
       "      <td>1.066639</td>\n",
       "    </tr>\n",
       "    <tr>\n",
       "      <th>2013-12-06</th>\n",
       "      <td>2013-12-06</td>\n",
       "      <td>3.364</td>\n",
       "      <td>1.111000</td>\n",
       "    </tr>\n",
       "  </tbody>\n",
       "</table>\n",
       "</div>"
      ],
      "text/plain": [
       "                 Date  Ground Level  Settlement\n",
       "Date                                           \n",
       "2013-05-04 2013-05-04        -2.000    0.000000\n",
       "2013-12-03 2013-12-03         3.364    1.022000\n",
       "2013-12-04 2013-12-04         3.364    1.041500\n",
       "2013-12-05 2013-12-05         3.364    1.066639\n",
       "2013-12-06 2013-12-06         3.364    1.111000"
      ]
     },
     "execution_count": 5,
     "metadata": {},
     "output_type": "execute_result"
    }
   ],
   "source": [
    "ts.head()"
   ]
  },
  {
   "cell_type": "code",
   "execution_count": 17,
   "metadata": {},
   "outputs": [],
   "source": [
    "def sample_data(lag):\n",
    "    ts_week = ts.resample(lag).mean().interpolate()\n",
    "    fig, ax = plt.subplots(2,1,figsize=(15,6))\n",
    "    ts_week.plot(ax=ax[1],y='Settlement',marker='o',label='Sampled Data',markersize=2)\n",
    "    ts_week.plot(ax=ax[0],y='Ground Level',marker='*',label='Ground Level',markersize=1)\n",
    "    ts.plot(y='Settlement',kind='line',ax=ax[1],marker='*',linewidth=0,label = 'Original Data',c='k')\n",
    "    ax[1].set_ylim([8,0])\n",
    "    ts.Date.max()\n",
    "    ax[1].set_ylabel('Settlement(m)')"
   ]
  },
  {
   "cell_type": "code",
   "execution_count": 18,
   "metadata": {
    "collapsed": true
   },
   "outputs": [
    {
     "data": {
      "image/png": "[encoded data removed]",
      "text/plain": [
       "<matplotlib.figure.Figure at 0x1e8203be860>"
      ]
     },
     "metadata": {},
     "output_type": "display_data"
    }
   ],
   "source": [
    "sample_data('1W')"
   ]
  }
 ],
 "metadata": {
  "kernelspec": {
   "display_name": "Python 3",
   "language": "python",
   "name": "python3"
  },
  "language_info": {
   "codemirror_mode": {
    "name": "ipython",
    "version": 3
   },
   "file_extension": ".py",
   "mimetype": "text/x-python",
   "name": "python",
   "nbconvert_exporter": "python",
   "pygments_lexer": "ipython3",
   "version": "3.5.0"
  }
 },
 "nbformat": 4,
 "nbformat_minor": 2
}
